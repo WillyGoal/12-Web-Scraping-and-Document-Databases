{
 "cells": [
  {
   "cell_type": "code",
   "execution_count": 1,
   "metadata": {},
   "outputs": [],
   "source": [
    "from splinter import Browser\n",
    "from bs4 import BeautifulSoup\n",
    "import pandas as pd"
   ]
  },
  {
   "cell_type": "code",
   "execution_count": 2,
   "metadata": {},
   "outputs": [],
   "source": [
    "executable_path = {'executable_path': 'chromedriver'}\n",
    "browser = Browser('chrome', **executable_path, headless=False)"
   ]
  },
  {
   "cell_type": "code",
   "execution_count": null,
   "metadata": {},
   "outputs": [],
   "source": [
    "url = 'https://mars.nasa.gov/news/?page=0&per_page=40&order=publish_date+desc%2Ccreated_at+desc&search=&category=19%2C165%2C184%2C204&blank_scope=Latest'\n",
    "browser.visit(url)\n",
    "    \n",
    "html = browser.html\n",
    "soup = BeautifulSoup(html, 'html.parser')\n",
    "    \n",
    "news_article = soup.find('li', class_='slide')\n",
    "\n",
    "news_title = news_article.find('div', class_=\"content_title\").get_text()\n",
    "news_p = news_article.find('div', class_=\"article_teaser_body\").get_text()"
   ]
  },
  {
   "cell_type": "code",
   "execution_count": null,
   "metadata": {},
   "outputs": [],
   "source": [
    "news_title"
   ]
  },
  {
   "cell_type": "code",
   "execution_count": null,
   "metadata": {},
   "outputs": [],
   "source": [
    "news_p"
   ]
  },
  {
   "cell_type": "code",
   "execution_count": null,
   "metadata": {},
   "outputs": [],
   "source": [
    "url = 'https://www.jpl.nasa.gov/spaceimages/?search=&category=Mars'\n",
    "browser.visit(url)\n",
    "    \n",
    "html = browser.html\n",
    "soup = BeautifulSoup(html, 'html.parser')\n",
    "\n",
    "featured_image = soup.find('a', class_='button fancybox')['data-fancybox-href']\n",
    "\n",
    "featured_image_url = 'https://www.jpl.nasa.gov' + featured_image\n",
    "\n",
    "featured_image_url"
   ]
  },
  {
   "cell_type": "code",
   "execution_count": null,
   "metadata": {},
   "outputs": [],
   "source": [
    "url = 'https://twitter.com/marswxreport?lang=en'\n",
    "browser.visit(url)\n",
    "    \n",
    "html = browser.html\n",
    "soup = BeautifulSoup(html, 'html.parser')\n",
    "\n",
    "first_tweet = soup.find('li', class_='js-stream-item stream-item stream-item')\n",
    "\n",
    "tweet_p = first_tweet.find('p', class_='TweetTextSize TweetTextSize--normal js-tweet-text tweet-text')\n",
    "\n",
    "tweet_p.a.extract()\n",
    "\n",
    "mars_weather = tweet_p.get_text()\n",
    "mars_weather"
   ]
  },
  {
   "cell_type": "code",
   "execution_count": null,
   "metadata": {},
   "outputs": [],
   "source": [
    "url = 'https://space-facts.com/mars/'\n",
    "tables = pd.read_html(url)\n",
    "df = tables[0]\n",
    "df"
   ]
  },
  {
   "cell_type": "code",
   "execution_count": null,
   "metadata": {},
   "outputs": [],
   "source": [
    "html_table = df.to_html()\n",
    "html_table"
   ]
  },
  {
   "cell_type": "code",
   "execution_count": 39,
   "metadata": {},
   "outputs": [
    {
     "data": {
      "text/plain": [
       "[{'title': 'Cerberus Hemisphere Enhanced',\n",
       "  'img_url': 'http://astropedia.astrogeology.usgs.gov/download/Mars/Viking/cerberus_enhanced.tif/full.jpg'},\n",
       " {'title': 'Schiaparelli Hemisphere Enhanced',\n",
       "  'img_url': 'http://astropedia.astrogeology.usgs.gov/download/Mars/Viking/schiaparelli_enhanced.tif/full.jpg'},\n",
       " {'title': 'Syrtis Major Hemisphere Enhanced',\n",
       "  'img_url': 'http://astropedia.astrogeology.usgs.gov/download/Mars/Viking/syrtis_major_enhanced.tif/full.jpg'},\n",
       " {'title': 'Valles Marineris Hemisphere Enhanced',\n",
       "  'img_url': 'http://astropedia.astrogeology.usgs.gov/download/Mars/Viking/valles_marineris_enhanced.tif/full.jpg'}]"
      ]
     },
     "execution_count": 39,
     "metadata": {},
     "output_type": "execute_result"
    }
   ],
   "source": [
    "hemisphere_image_urls =[]\n",
    "\n",
    "for i in range(4):\n",
    "    \n",
    "    img_dict ={}\n",
    "    \n",
    "    url = 'https://astrogeology.usgs.gov/search/results?q=hemisphere+enhanced&k1=target&v1=Mars'\n",
    "    browser.visit(url)\n",
    "    \n",
    "    html = browser.html\n",
    "    soup = BeautifulSoup(html, 'html.parser')\n",
    "\n",
    "    items = soup.find_all('div', class_='item')\n",
    "    \n",
    "    img_dict['title'] = items[i].find('h3').get_text()\n",
    "    \n",
    "    results = browser.find_by_tag('h3')\n",
    "    results[i].click()\n",
    "    \n",
    "    img_dict['img_url'] = browser.find_by_text('Sample')['href']\n",
    "    \n",
    "    hemisphere_image_urls.append(img_dict)\n",
    "\n",
    "hemisphere_image_urls"
   ]
  },
  {
   "cell_type": "code",
   "execution_count": 37,
   "metadata": {},
   "outputs": [
    {
     "name": "stdout",
     "output_type": "stream",
     "text": [
      "[<splinter.driver.webdriver.WebDriverElement object at 0x0000024C0851DFD0>, <splinter.driver.webdriver.WebDriverElement object at 0x0000024C0851D860>, <splinter.driver.webdriver.WebDriverElement object at 0x0000024C08508198>, <splinter.driver.webdriver.WebDriverElement object at 0x0000024C08508240>]\n"
     ]
    }
   ],
   "source": [
    "\n",
    "    \n",
    "url = 'https://astrogeology.usgs.gov/search/results?q=hemisphere+enhanced&k1=target&v1=Mars'\n",
    "browser.visit(url)\n",
    "    \n",
    "\n",
    "    \n",
    "# Design an XPATH selector to grab the image\n",
    "# xpath = '//div[@class=\"item\"]//a[@class=\"itemLink product-item\"]/h3'\n",
    "# xpath = '//div[@class=\"item\"]//div[@class=\"description\"]//a[@class=\"itemLink product-item\"]/h3'\n",
    "    \n",
    "# results = browser.find_by_xpath(xpath)\n",
    "\n",
    "# results = browser.find_by_text('Cerberus Hemisphere Enhanced')\n",
    "\n",
    "# browser.click_link_by_text('Cerberus Hemisphere Enhanced')\n",
    "# browser.find_link_by_text('Cerberus Hemisphere Enhanced').first.click()\n",
    "# browser.click_link_by_href('/search/map/Mars/Viking/cerberus_enhanced')\n",
    "results = browser.find_by_tag('h3')\n",
    "\n",
    "#  results = browser.find_by_text(items[i].find('h3').get_text())\n",
    "print(results)\n",
    "results[1].click()\n",
    "\n",
    "result = browser.find_by_text('Sample')['href']\n",
    "    \n",
    "#     img_dict['img_url'] = \n",
    "    \n"
   ]
  },
  {
   "cell_type": "code",
   "execution_count": 38,
   "metadata": {},
   "outputs": [
    {
     "data": {
      "text/plain": [
       "'http://astropedia.astrogeology.usgs.gov/download/Mars/Viking/schiaparelli_enhanced.tif/full.jpg'"
      ]
     },
     "execution_count": 38,
     "metadata": {},
     "output_type": "execute_result"
    }
   ],
   "source": [
    "result"
   ]
  },
  {
   "cell_type": "code",
   "execution_count": null,
   "metadata": {},
   "outputs": [],
   "source": []
  }
 ],
 "metadata": {
  "kernelspec": {
   "display_name": "Python 3",
   "language": "python",
   "name": "python3"
  },
  "language_info": {
   "codemirror_mode": {
    "name": "ipython",
    "version": 3
   },
   "file_extension": ".py",
   "mimetype": "text/x-python",
   "name": "python",
   "nbconvert_exporter": "python",
   "pygments_lexer": "ipython3",
   "version": "3.7.1"
  }
 },
 "nbformat": 4,
 "nbformat_minor": 2
}
