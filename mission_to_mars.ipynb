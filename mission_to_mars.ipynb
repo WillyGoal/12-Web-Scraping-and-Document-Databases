{
 "cells": [
  {
   "cell_type": "code",
   "execution_count": 1,
   "metadata": {},
   "outputs": [],
   "source": [
    "from splinter import Browser\n",
    "from bs4 import BeautifulSoup\n",
    "import pandas as pd"
   ]
  },
  {
   "cell_type": "code",
   "execution_count": 2,
   "metadata": {},
   "outputs": [],
   "source": [
    "executable_path = {'executable_path': 'chromedriver'}\n",
    "browser = Browser('chrome', **executable_path, headless=False)"
   ]
  },
  {
   "cell_type": "code",
   "execution_count": null,
   "metadata": {},
   "outputs": [],
   "source": [
    "url = 'https://mars.nasa.gov/news/?page=0&per_page=40&order=publish_date+desc%2Ccreated_at+desc&search=&category=19%2C165%2C184%2C204&blank_scope=Latest'\n",
    "browser.visit(url)\n",
    "    \n",
    "html = browser.html\n",
    "soup = BeautifulSoup(html, 'html.parser')\n",
    "    \n",
    "news_article = soup.find('li', class_='slide')\n",
    "\n",
    "news_title = news_article.find('div', class_=\"content_title\").get_text()\n",
    "news_p = news_article.find('div', class_=\"article_teaser_body\").get_text()"
   ]
  },
  {
   "cell_type": "code",
   "execution_count": null,
   "metadata": {},
   "outputs": [],
   "source": [
    "news_title"
   ]
  },
  {
   "cell_type": "code",
   "execution_count": null,
   "metadata": {},
   "outputs": [],
   "source": [
    "news_p"
   ]
  },
  {
   "cell_type": "code",
   "execution_count": null,
   "metadata": {},
   "outputs": [],
   "source": [
    "url = 'https://www.jpl.nasa.gov/spaceimages/?search=&category=Mars'\n",
    "browser.visit(url)\n",
    "    \n",
    "html = browser.html\n",
    "soup = BeautifulSoup(html, 'html.parser')\n",
    "\n",
    "featured_image = soup.find('a', class_='button fancybox')['data-fancybox-href']\n",
    "\n",
    "featured_image_url = 'https://www.jpl.nasa.gov' + featured_image\n",
    "\n",
    "featured_image_url"
   ]
  },
  {
   "cell_type": "code",
   "execution_count": null,
   "metadata": {},
   "outputs": [],
   "source": [
    "url = 'https://twitter.com/marswxreport?lang=en'\n",
    "browser.visit(url)\n",
    "    \n",
    "html = browser.html\n",
    "soup = BeautifulSoup(html, 'html.parser')\n",
    "\n",
    "first_tweet = soup.find('li', class_='js-stream-item stream-item stream-item')\n",
    "\n",
    "tweet_p = first_tweet.find('p', class_='TweetTextSize TweetTextSize--normal js-tweet-text tweet-text')\n",
    "\n",
    "tweet_p.a.extract()\n",
    "\n",
    "mars_weather = tweet_p.get_text()\n",
    "mars_weather"
   ]
  },
  {
   "cell_type": "code",
   "execution_count": null,
   "metadata": {},
   "outputs": [],
   "source": [
    "url = 'https://space-facts.com/mars/'\n",
    "tables = pd.read_html(url)\n",
    "df = tables[0]\n",
    "df"
   ]
  },
  {
   "cell_type": "code",
   "execution_count": null,
   "metadata": {},
   "outputs": [],
   "source": [
    "html_table = df.to_html()\n",
    "html_table"
   ]
  },
  {
   "cell_type": "code",
   "execution_count": 8,
   "metadata": {},
   "outputs": [
    {
     "name": "stdout",
     "output_type": "stream",
     "text": [
      "[<splinter.driver.webdriver.WebDriverElement object at 0x0000024C08436668>, <splinter.driver.webdriver.WebDriverElement object at 0x0000024C08436828>, <splinter.driver.webdriver.WebDriverElement object at 0x0000024C08436A20>, <splinter.driver.webdriver.WebDriverElement object at 0x0000024C08436710>]\n",
      "[<splinter.driver.webdriver.WebDriverElement object at 0x0000024C082EFB38>, <splinter.driver.webdriver.WebDriverElement object at 0x0000024C082EFCF8>, <splinter.driver.webdriver.WebDriverElement object at 0x0000024C082EFEF0>, <splinter.driver.webdriver.WebDriverElement object at 0x0000024C082EFBE0>]\n",
      "[<splinter.driver.webdriver.WebDriverElement object at 0x0000024C081B5048>, <splinter.driver.webdriver.WebDriverElement object at 0x0000024C081B5208>, <splinter.driver.webdriver.WebDriverElement object at 0x0000024C081B5400>, <splinter.driver.webdriver.WebDriverElement object at 0x0000024C081B50F0>]\n",
      "[<splinter.driver.webdriver.WebDriverElement object at 0x0000024C0829D518>, <splinter.driver.webdriver.WebDriverElement object at 0x0000024C0829D6D8>, <splinter.driver.webdriver.WebDriverElement object at 0x0000024C0829D8D0>, <splinter.driver.webdriver.WebDriverElement object at 0x0000024C0829D5C0>]\n"
     ]
    },
    {
     "data": {
      "text/plain": [
       "[{'title': 'Cerberus Hemisphere Enhanced'},\n",
       " {'title': 'Schiaparelli Hemisphere Enhanced'},\n",
       " {'title': 'Syrtis Major Hemisphere Enhanced'},\n",
       " {'title': 'Valles Marineris Hemisphere Enhanced'}]"
      ]
     },
     "execution_count": 8,
     "metadata": {},
     "output_type": "execute_result"
    }
   ],
   "source": [
    "hemisphere_image_urls =[]\n",
    "\n",
    "for i in range(4):\n",
    "    \n",
    "    img_dict ={}\n",
    "    \n",
    "    url = 'https://astrogeology.usgs.gov/search/results?q=hemisphere+enhanced&k1=target&v1=Mars'\n",
    "    browser.visit(url)\n",
    "    \n",
    "    html = browser.html\n",
    "    soup = BeautifulSoup(html, 'html.parser')\n",
    "\n",
    "    items = soup.find_all('div', class_='item')\n",
    "    \n",
    "    img_dict['title'] = items[i].find('h3').get_text()\n",
    "    \n",
    "    # Design an XPATH selector to grab the image\n",
    "    xpath = '//div[@class=\"item\"]//a[@class=\"itemLink product-item\"]/img'\n",
    "#     xpath = '//div[@class=\"item\"]'\n",
    "    \n",
    "    results = browser.find_by_xpath(xpath)\n",
    "    print(results)\n",
    "#     results[i].click\n",
    "    \n",
    "#     img_dict['img_url'] = \n",
    "    \n",
    "    hemisphere_image_urls.append(img_dict)\n",
    "\n",
    "hemisphere_image_urls"
   ]
  },
  {
   "cell_type": "code",
   "execution_count": null,
   "metadata": {},
   "outputs": [],
   "source": []
  }
 ],
 "metadata": {
  "kernelspec": {
   "display_name": "Python 3",
   "language": "python",
   "name": "python3"
  },
  "language_info": {
   "codemirror_mode": {
    "name": "ipython",
    "version": 3
   },
   "file_extension": ".py",
   "mimetype": "text/x-python",
   "name": "python",
   "nbconvert_exporter": "python",
   "pygments_lexer": "ipython3",
   "version": "3.7.1"
  }
 },
 "nbformat": 4,
 "nbformat_minor": 2
}
